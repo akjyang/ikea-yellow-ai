{
 "cells": [
  {
   "cell_type": "code",
   "execution_count": 1,
   "metadata": {},
   "outputs": [],
   "source": [
    "from openai import OpenAI\n",
    "import json\n",
    "import numpy as np\n",
    "import pandas as pd\n",
    "from sklearn.linear_model import LinearRegression\n",
    "from typing import List, Dict"
   ]
  },
  {
   "cell_type": "code",
   "execution_count": 2,
   "metadata": {},
   "outputs": [],
   "source": [
    "client = OpenAI(api_key=\"INSERT KEY HERE\")"
   ]
  },
  {
   "cell_type": "code",
   "execution_count": 3,
   "metadata": {},
   "outputs": [],
   "source": [
    "def run_regression(data: List[Dict[str, float]]) -> Dict[str, float]:\n",
    "    \"\"\"\n",
    "    Runs a simple linear regression model based on provided data.\n",
    "    \n",
    "    Parameters:\n",
    "    - data: A list of dictionaries, each containing 'x' and 'y' values.\n",
    "    \n",
    "    Returns:\n",
    "    - A dictionary with regression coefficients and R-squared score.\n",
    "    \"\"\"\n",
    "    df = pd.DataFrame(data)\n",
    "    \n",
    "    X = df[['x']].values\n",
    "    y = df['y'].values\n",
    "    \n",
    "    model = LinearRegression()\n",
    "    model.fit(X, y)\n",
    "    \n",
    "    return {\n",
    "        \"slope\": model.coef_[0],\n",
    "        \"intercept\": model.intercept_,\n",
    "        \"r_squared\": model.score(X, y)\n",
    "    }"
   ]
  },
  {
   "cell_type": "code",
   "execution_count": 5,
   "metadata": {},
   "outputs": [],
   "source": [
    "tools = [{\n",
    "    \"type\": \"function\",\n",
    "    \"function\": {\n",
    "        \"name\": \"run_regression\",\n",
    "        \"description\": \"Run a simple linear regression on x-y data points.\",\n",
    "        \"parameters\": {\n",
    "            \"type\": \"object\",\n",
    "            \"properties\": {\n",
    "                \"data\": {\n",
    "                    \"type\": \"array\",\n",
    "                    \"items\": {\n",
    "                        \"type\": \"object\",\n",
    "                        \"properties\": {\n",
    "                            \"x\": {\"type\": \"number\"},\n",
    "                            \"y\": {\"type\": \"number\"}\n",
    "                        },\n",
    "                        \"required\": [\"x\", \"y\"],\n",
    "                        \"additionalProperties\": False\n",
    "                    },\n",
    "                    \"description\": \"List of data points with x and y values.\"\n",
    "                }\n",
    "            },\n",
    "            \"required\": [\"data\"],\n",
    "            \"additionalProperties\": False,\n",
    "        },\n",
    "        \"strict\": True\n",
    "    }\n",
    "}]\n",
    "\n",
    "messages = [\n",
    "    {\"role\": \"system\", \"content\": \"You are a helpful assistant.\"},\n",
    "    {\"role\": \"user\", \"content\": \"Run a regression on the following data: [{\\\"x\\\": 1, \\\"y\\\": 2}, {\\\"x\\\": 2, \\\"y\\\": 2.5}, {\\\"x\\\": 3, \\\"y\\\": 3.7}].\"}\n",
    "]"
   ]
  },
  {
   "cell_type": "code",
   "execution_count": 6,
   "metadata": {},
   "outputs": [
    {
     "name": "stdout",
     "output_type": "stream",
     "text": [
      "Based on the data provided, the results of the regression analysis are as follows:\n",
      "\n",
      "- **Slope**: 0.85\n",
      "- **Intercept**: 1.0333\n",
      "- **R-squared**: 0.9465\n",
      "\n",
      "This indicates that the regression line has a positive slope of 0.85, suggesting that for every unit increase in \\( x \\), \\( y \\) increases by 0.85 units. The intercept of approximately 1.0333 suggests that when \\( x \\) is 0, the predicted value of \\( y \\) is about 1.0333.\n",
      "\n",
      "The R-squared value of approximately 0.9465 indicates a strong fit of the model to the data, meaning that about 94.65% of the variability in \\( y \\) can be explained by the variability in \\( x \\).\n"
     ]
    }
   ],
   "source": [
    "completion = client.chat.completions.create(\n",
    "    model=\"gpt-4o-mini\",\n",
    "    messages=messages,\n",
    "    tools=tools\n",
    ")\n",
    "\n",
    "if completion.choices[0].message.tool_calls:\n",
    "    for tool_call in completion.choices[0].message.tool_calls:\n",
    "        if tool_call.function.name == \"run_regression\":\n",
    "            function_args = json.loads(tool_call.function.arguments)\n",
    "            result = run_regression(**function_args)\n",
    "\n",
    "            messages.append({\n",
    "                \"role\": \"function\",\n",
    "                \"name\": \"run_regression\",\n",
    "                \"content\": json.dumps(result)\n",
    "            })\n",
    "\n",
    "            final_response = client.chat.completions.create(\n",
    "                model=\"gpt-4o-mini\",\n",
    "                messages=messages\n",
    "            )\n",
    "\n",
    "            print(final_response.choices[0].message.content)\n"
   ]
  }
 ],
 "metadata": {
  "kernelspec": {
   "display_name": "base",
   "language": "python",
   "name": "python3"
  },
  "language_info": {
   "codemirror_mode": {
    "name": "ipython",
    "version": 3
   },
   "file_extension": ".py",
   "mimetype": "text/x-python",
   "name": "python",
   "nbconvert_exporter": "python",
   "pygments_lexer": "ipython3",
   "version": "3.11.7"
  }
 },
 "nbformat": 4,
 "nbformat_minor": 2
}
